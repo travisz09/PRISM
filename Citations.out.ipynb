{
 "cells": [
  {
   "cell_type": "markdown",
   "metadata": {},
   "source": [
    "# \n",
    "\n",
    "Hart, E. M., & Bell, K. (2015). prism: Download data from the Oregon prism project. https://doi.org/10.5281/zenodo.33663\n",
    "\n",
    "Hijmans, R. J. (2023). terra: Spatial Data Analysis. https://CRAN.R-project.org/package=terra\n",
    "\n",
    "PRISM Climate Group, Oregon State University, https://prism.oregonstate.edu\n",
    "\n",
    "R Core Team. (2021). R: A Language and Environment for Statistical Computing. R Foundation for Statistical Computing. https://www.R-project.org/"
   ],
   "id": "5597d9e0-99ed-4b4f-8e94-2207f5a83e9c"
  }
 ],
 "nbformat": 4,
 "nbformat_minor": 5,
 "metadata": {}
}
